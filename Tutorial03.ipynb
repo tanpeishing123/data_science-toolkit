{
  "nbformat": 4,
  "nbformat_minor": 0,
  "metadata": {
    "colab": {
      "provenance": [],
      "authorship_tag": "ABX9TyN1mSLC1wAIIMz+fdoafQmR",
      "include_colab_link": true
    },
    "kernelspec": {
      "name": "python3",
      "display_name": "Python 3"
    },
    "language_info": {
      "name": "python"
    }
  },
  "cells": [
    {
      "cell_type": "markdown",
      "metadata": {
        "id": "view-in-github",
        "colab_type": "text"
      },
      "source": [
        "<a href=\"https://colab.research.google.com/github/tanpeishing123/data_science-toolkit/blob/main/Tutorial03.ipynb\" target=\"_parent\"><img src=\"https://colab.research.google.com/assets/colab-badge.svg\" alt=\"Open In Colab\"/></a>"
      ]
    },
    {
      "cell_type": "markdown",
      "source": [
        "1.array of size 2x2"
      ],
      "metadata": {
        "id": "H_QIaiQetmFJ"
      }
    },
    {
      "cell_type": "code",
      "source": [
        "import numpy as np\n",
        "arr1 = np.array([[1,2],\n",
        "                [3,4]])\n",
        "print(arr1)"
      ],
      "metadata": {
        "colab": {
          "base_uri": "https://localhost:8080/"
        },
        "id": "X8BrSktEtqUh",
        "outputId": "afd6b313-9626-4ed0-cb65-7a9c0cb3aaab"
      },
      "execution_count": 2,
      "outputs": [
        {
          "output_type": "stream",
          "name": "stdout",
          "text": [
            "[[1 2]\n",
            " [3 4]]\n"
          ]
        }
      ]
    },
    {
      "cell_type": "markdown",
      "source": [
        "2.create a random NumPy array of size 3 x 3"
      ],
      "metadata": {
        "id": "z9CteJckt3Th"
      }
    },
    {
      "cell_type": "code",
      "source": [
        "arr2 = np.random.rand(3,4)\n",
        "print(arr2)"
      ],
      "metadata": {
        "colab": {
          "base_uri": "https://localhost:8080/"
        },
        "id": "s2aOhGy5uDWu",
        "outputId": "253d9368-7f1d-454b-9ac9-4fd67f2edb89"
      },
      "execution_count": 4,
      "outputs": [
        {
          "output_type": "stream",
          "name": "stdout",
          "text": [
            "[[0.7604953  0.42920248 0.55589    0.77000621]\n",
            " [0.38683844 0.503112   0.05546232 0.03239191]\n",
            " [0.29475722 0.31873751 0.52566692 0.44735812]]\n"
          ]
        }
      ]
    },
    {
      "cell_type": "markdown",
      "source": [
        "3.create a NumPy array of ones and a NumPy array of zeroes"
      ],
      "metadata": {
        "id": "gsozlqYAuMQm"
      }
    },
    {
      "cell_type": "code",
      "source": [
        "ones = np.ones((2,3))\n",
        "zeroes = np.zeros((2,3))\n",
        "print(\"Array of ones:\\n\",ones)\n",
        "print(\"Array of zeroes:\\n\",zeroes)"
      ],
      "metadata": {
        "colab": {
          "base_uri": "https://localhost:8080/"
        },
        "id": "9_cptDBnuSWg",
        "outputId": "2e5779da-5315-4879-bf01-c2f8137ac904"
      },
      "execution_count": 7,
      "outputs": [
        {
          "output_type": "stream",
          "name": "stdout",
          "text": [
            "Array of ones:\n",
            " [[1. 1. 1.]\n",
            " [1. 1. 1.]]\n",
            "Array of zeroes:\n",
            " [[0. 0. 0.]\n",
            " [0. 0. 0.]]\n"
          ]
        }
      ]
    },
    {
      "cell_type": "markdown",
      "source": [
        "4.Create a random NumPy array of size 6 x 3 and transpose it"
      ],
      "metadata": {
        "id": "NdR8i3CQuyVN"
      }
    },
    {
      "cell_type": "code",
      "source": [
        "arr3 = np.random.rand(6,3)\n",
        "print(\"Original array:\\n\",arr3)\n",
        "arr3T= arr3.T\n",
        "print(\"Transposed array:\\n\",arr3T)"
      ],
      "metadata": {
        "colab": {
          "base_uri": "https://localhost:8080/"
        },
        "id": "H_6gfWe7u29X",
        "outputId": "3407f3b4-4cb4-435f-c6b9-83140f615266"
      },
      "execution_count": 9,
      "outputs": [
        {
          "output_type": "stream",
          "name": "stdout",
          "text": [
            "Original array:\n",
            " [[0.00763993 0.13812689 0.8221299 ]\n",
            " [0.14293432 0.81790147 0.06476007]\n",
            " [0.43701157 0.28568353 0.20595857]\n",
            " [0.18944393 0.65262066 0.92975999]\n",
            " [0.21579335 0.49115992 0.98956297]\n",
            " [0.85753797 0.93075252 0.35356513]]\n",
            "Transposed array:\n",
            " [[0.00763993 0.14293432 0.43701157 0.18944393 0.21579335 0.85753797]\n",
            " [0.13812689 0.81790147 0.28568353 0.65262066 0.49115992 0.93075252]\n",
            " [0.8221299  0.06476007 0.20595857 0.92975999 0.98956297 0.35356513]]\n"
          ]
        }
      ]
    },
    {
      "cell_type": "markdown",
      "source": [
        "5.Create two random arrays of size n x p and p x n then compute the dot product"
      ],
      "metadata": {
        "id": "6fSNfAm6vWJ-"
      }
    },
    {
      "cell_type": "code",
      "source": [
        "n, p, m = 2, 3, 4\n",
        "A = np.random.rand(n,p)\n",
        "B = np.random.rand(p,m)\n",
        "\n",
        "print(\"Matrix A:\\n\",A)\n",
        "print(\"Matrix B:\\n\",B)\n",
        "\n",
        "dot_product = np.dot(A,B)\n",
        "print(\"Dot product:\\n\",dot_product)"
      ],
      "metadata": {
        "colab": {
          "base_uri": "https://localhost:8080/"
        },
        "id": "cB1dJcc8veBP",
        "outputId": "499c177b-ef72-428f-99a3-1841cc55f557"
      },
      "execution_count": 10,
      "outputs": [
        {
          "output_type": "stream",
          "name": "stdout",
          "text": [
            "Matrix A:\n",
            " [[0.76345892 0.81228071 0.33960722]\n",
            " [0.38450029 0.18991162 0.67240599]]\n",
            "Matrix B:\n",
            " [[0.56005384 0.26216771 0.47289378 0.74413939]\n",
            " [0.30516599 0.12412098 0.84725965 0.54351265]\n",
            " [0.74052936 0.81138545 0.30740898 0.75417306]]\n",
            "Dot product:\n",
            " [[0.92694767 0.57652772 1.15364595 1.26572732]\n",
            " [0.77123181 0.66995601 0.54943589 0.89645166]]\n"
          ]
        }
      ]
    }
  ]
}